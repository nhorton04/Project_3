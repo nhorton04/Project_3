{
 "cells": [
  {
   "cell_type": "code",
   "execution_count": null,
   "metadata": {},
   "outputs": [],
   "source": [
    "import pandas as pd\n",
    "import matplotlib.pyplot as plt\n",
    "import seaborn as sns"
   ]
  },
  {
   "cell_type": "code",
   "execution_count": null,
   "metadata": {},
   "outputs": [],
   "source": [
    "df = pd.read_csv('adult.data')\n",
    "df.columns"
   ]
  },
  {
   "cell_type": "code",
   "execution_count": null,
   "metadata": {},
   "outputs": [],
   "source": [
    "df = df.rename(columns={'39': 'Age', ' State-gov': 'Work Class', ' 77516':'fnlwgt', ' Bachelors': 'Education', ' 13':'Education-Grade', ' Never-married': 'Marital Status', ' Adm-clerical': 'Occupation', ' Not-in-family': 'Relationship', ' White': 'Race', ' Male': 'Sex', ' 2174': 'Capital Gain', ' 0': 'Capital Loss', ' 40': 'Hours-Per-Week', ' United-States': 'Native Country', ' <=50K': 'Income'})\n",
    "df = pd.get_dummies(df, columns=['Income'], drop_first=True)\n",
    "df"
   ]
  },
  {
   "cell_type": "code",
   "execution_count": null,
   "metadata": {},
   "outputs": [],
   "source": [
    "X = df.drop('Income_ >50K', axis=1)\n",
    "y = df[['Income_ >50K']]\n",
    "# y = pd.get_dummies(y, prefix='', drop_first=True)"
   ]
  },
  {
   "cell_type": "code",
   "execution_count": null,
   "metadata": {},
   "outputs": [],
   "source": [
    "g = sns.FacetGrid(df, col='fnlwgt', hue=\"Income_ >50K\")\n",
    "g.map(plt.scatter, 'Work Class', 'Education-Grade', alpha=.7)\n",
    "g.add_legend();\n"
   ]
  },
  {
   "cell_type": "code",
   "execution_count": null,
   "metadata": {},
   "outputs": [],
   "source": [
    "sns.lmplot(x='Education', y='Income_ >50K', data=df)"
   ]
  },
  {
   "cell_type": "code",
   "execution_count": null,
   "metadata": {},
   "outputs": [],
   "source": []
  }
 ],
 "metadata": {
  "kernelspec": {
   "display_name": "Python 3",
   "language": "python",
   "name": "python3"
  },
  "language_info": {
   "codemirror_mode": {
    "name": "ipython",
    "version": 3
   },
   "file_extension": ".py",
   "mimetype": "text/x-python",
   "name": "python",
   "nbconvert_exporter": "python",
   "pygments_lexer": "ipython3",
   "version": "3.7.6"
  }
 },
 "nbformat": 4,
 "nbformat_minor": 4
}
